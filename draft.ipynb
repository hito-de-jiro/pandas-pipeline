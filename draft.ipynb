{
 "cells": [
  {
   "cell_type": "code",
   "execution_count": 45,
   "outputs": [],
   "source": [
    "import pandas as pd\n",
    "\n",
    "df = pd.read_csv('input.csv', delimiter=',') "
   ],
   "metadata": {
    "collapsed": false,
    "ExecuteTime": {
     "end_time": "2023-12-20T17:44:37.521147Z",
     "start_time": "2023-12-20T17:44:37.374785700Z"
    }
   },
   "id": "27c432537cf960e9"
  },
  {
   "cell_type": "code",
   "execution_count": 46,
   "outputs": [
    {
     "data": {
      "text/plain": "       first_name  last_name\n0           Louis     Nguyen\n1          Andrew      Brown\n2         Zachary  Rodriguez\n3           Stacy   Martinez\n4           Susan      Perry\n...           ...        ...\n499995    Candice     Oliver\n499996      Brian   Anderson\n499997      Jerry    Michael\n499998       Kara   Martinez\n499999    Richard       Hall\n\n[500000 rows x 2 columns]",
      "text/html": "<div>\n<style scoped>\n    .dataframe tbody tr th:only-of-type {\n        vertical-align: middle;\n    }\n\n    .dataframe tbody tr th {\n        vertical-align: top;\n    }\n\n    .dataframe thead th {\n        text-align: right;\n    }\n</style>\n<table border=\"1\" class=\"dataframe\">\n  <thead>\n    <tr style=\"text-align: right;\">\n      <th></th>\n      <th>first_name</th>\n      <th>last_name</th>\n    </tr>\n  </thead>\n  <tbody>\n    <tr>\n      <th>0</th>\n      <td>Louis</td>\n      <td>Nguyen</td>\n    </tr>\n    <tr>\n      <th>1</th>\n      <td>Andrew</td>\n      <td>Brown</td>\n    </tr>\n    <tr>\n      <th>2</th>\n      <td>Zachary</td>\n      <td>Rodriguez</td>\n    </tr>\n    <tr>\n      <th>3</th>\n      <td>Stacy</td>\n      <td>Martinez</td>\n    </tr>\n    <tr>\n      <th>4</th>\n      <td>Susan</td>\n      <td>Perry</td>\n    </tr>\n    <tr>\n      <th>...</th>\n      <td>...</td>\n      <td>...</td>\n    </tr>\n    <tr>\n      <th>499995</th>\n      <td>Candice</td>\n      <td>Oliver</td>\n    </tr>\n    <tr>\n      <th>499996</th>\n      <td>Brian</td>\n      <td>Anderson</td>\n    </tr>\n    <tr>\n      <th>499997</th>\n      <td>Jerry</td>\n      <td>Michael</td>\n    </tr>\n    <tr>\n      <th>499998</th>\n      <td>Kara</td>\n      <td>Martinez</td>\n    </tr>\n    <tr>\n      <th>499999</th>\n      <td>Richard</td>\n      <td>Hall</td>\n    </tr>\n  </tbody>\n</table>\n<p>500000 rows × 2 columns</p>\n</div>"
     },
     "execution_count": 46,
     "metadata": {},
     "output_type": "execute_result"
    }
   ],
   "source": [
    "df"
   ],
   "metadata": {
    "collapsed": false,
    "ExecuteTime": {
     "end_time": "2023-12-20T17:44:37.536235100Z",
     "start_time": "2023-12-20T17:44:37.524126600Z"
    }
   },
   "id": "87275107a8629cb3"
  },
  {
   "cell_type": "code",
   "execution_count": 57,
   "outputs": [
    {
     "data": {
      "text/plain": "       first_name last_name\n230491       Dana    Abbott\n214695     Donald    Abbott\n466893    Crystal    Abbott\n420478     Rodney    Abbott\n331035       Ryan    Abbott\n...           ...       ...\n396295     Robert    Zuniga\n243710    Tiffany    Zuniga\n414036       Lisa    Zuniga\n206521       Ryan    Zuniga\n317668    Cameron    Zuniga\n\n[500000 rows x 2 columns]",
      "text/html": "<div>\n<style scoped>\n    .dataframe tbody tr th:only-of-type {\n        vertical-align: middle;\n    }\n\n    .dataframe tbody tr th {\n        vertical-align: top;\n    }\n\n    .dataframe thead th {\n        text-align: right;\n    }\n</style>\n<table border=\"1\" class=\"dataframe\">\n  <thead>\n    <tr style=\"text-align: right;\">\n      <th></th>\n      <th>first_name</th>\n      <th>last_name</th>\n    </tr>\n  </thead>\n  <tbody>\n    <tr>\n      <th>230491</th>\n      <td>Dana</td>\n      <td>Abbott</td>\n    </tr>\n    <tr>\n      <th>214695</th>\n      <td>Donald</td>\n      <td>Abbott</td>\n    </tr>\n    <tr>\n      <th>466893</th>\n      <td>Crystal</td>\n      <td>Abbott</td>\n    </tr>\n    <tr>\n      <th>420478</th>\n      <td>Rodney</td>\n      <td>Abbott</td>\n    </tr>\n    <tr>\n      <th>331035</th>\n      <td>Ryan</td>\n      <td>Abbott</td>\n    </tr>\n    <tr>\n      <th>...</th>\n      <td>...</td>\n      <td>...</td>\n    </tr>\n    <tr>\n      <th>396295</th>\n      <td>Robert</td>\n      <td>Zuniga</td>\n    </tr>\n    <tr>\n      <th>243710</th>\n      <td>Tiffany</td>\n      <td>Zuniga</td>\n    </tr>\n    <tr>\n      <th>414036</th>\n      <td>Lisa</td>\n      <td>Zuniga</td>\n    </tr>\n    <tr>\n      <th>206521</th>\n      <td>Ryan</td>\n      <td>Zuniga</td>\n    </tr>\n    <tr>\n      <th>317668</th>\n      <td>Cameron</td>\n      <td>Zuniga</td>\n    </tr>\n  </tbody>\n</table>\n<p>500000 rows × 2 columns</p>\n</div>"
     },
     "execution_count": 57,
     "metadata": {},
     "output_type": "execute_result"
    }
   ],
   "source": [],
   "metadata": {
    "collapsed": false,
    "ExecuteTime": {
     "end_time": "2023-12-20T17:51:58.753545700Z",
     "start_time": "2023-12-20T17:51:58.505882100Z"
    }
   },
   "id": "e811d8dcc27a457f"
  },
  {
   "cell_type": "code",
   "execution_count": 47,
   "outputs": [
    {
     "data": {
      "text/plain": "       first_name  last_name\n0           Louis     Nguyen\n1          Andrew      Brown\n2         Zachary  Rodriguez\n3           Stacy   Martinez\n4           Susan      Perry\n...           ...        ...\n499980     Austin    Alvarez\n499982      Kerri     Farley\n499994    Russell     Bowers\n499995    Candice     Oliver\n499997      Jerry    Michael\n\n[206226 rows x 2 columns]",
      "text/html": "<div>\n<style scoped>\n    .dataframe tbody tr th:only-of-type {\n        vertical-align: middle;\n    }\n\n    .dataframe tbody tr th {\n        vertical-align: top;\n    }\n\n    .dataframe thead th {\n        text-align: right;\n    }\n</style>\n<table border=\"1\" class=\"dataframe\">\n  <thead>\n    <tr style=\"text-align: right;\">\n      <th></th>\n      <th>first_name</th>\n      <th>last_name</th>\n    </tr>\n  </thead>\n  <tbody>\n    <tr>\n      <th>0</th>\n      <td>Louis</td>\n      <td>Nguyen</td>\n    </tr>\n    <tr>\n      <th>1</th>\n      <td>Andrew</td>\n      <td>Brown</td>\n    </tr>\n    <tr>\n      <th>2</th>\n      <td>Zachary</td>\n      <td>Rodriguez</td>\n    </tr>\n    <tr>\n      <th>3</th>\n      <td>Stacy</td>\n      <td>Martinez</td>\n    </tr>\n    <tr>\n      <th>4</th>\n      <td>Susan</td>\n      <td>Perry</td>\n    </tr>\n    <tr>\n      <th>...</th>\n      <td>...</td>\n      <td>...</td>\n    </tr>\n    <tr>\n      <th>499980</th>\n      <td>Austin</td>\n      <td>Alvarez</td>\n    </tr>\n    <tr>\n      <th>499982</th>\n      <td>Kerri</td>\n      <td>Farley</td>\n    </tr>\n    <tr>\n      <th>499994</th>\n      <td>Russell</td>\n      <td>Bowers</td>\n    </tr>\n    <tr>\n      <th>499995</th>\n      <td>Candice</td>\n      <td>Oliver</td>\n    </tr>\n    <tr>\n      <th>499997</th>\n      <td>Jerry</td>\n      <td>Michael</td>\n    </tr>\n  </tbody>\n</table>\n<p>206226 rows × 2 columns</p>\n</div>"
     },
     "execution_count": 47,
     "metadata": {},
     "output_type": "execute_result"
    }
   ],
   "source": [
    "df.drop_duplicates()"
   ],
   "metadata": {
    "collapsed": false,
    "ExecuteTime": {
     "end_time": "2023-12-20T17:44:37.681652600Z",
     "start_time": "2023-12-20T17:44:37.536235100Z"
    }
   },
   "id": "18443e4d4cb865d3"
  },
  {
   "cell_type": "code",
   "execution_count": 60,
   "outputs": [
    {
     "data": {
      "text/plain": "       first_name last_name\n230491       Dana    Abbott\n46689      Dakota    Abbott\n37195        Jill    Abbott\n489205      Emily    Abbott\n37092     Phyllis    Abbott\n...           ...       ...\n211685     Ernest    Zuniga\n295687    Michael    Zuniga\n88617       Aaron    Zuniga\n296487     Curtis    Zuniga\n317668    Cameron    Zuniga\n\n[500000 rows x 2 columns]",
      "text/html": "<div>\n<style scoped>\n    .dataframe tbody tr th:only-of-type {\n        vertical-align: middle;\n    }\n\n    .dataframe tbody tr th {\n        vertical-align: top;\n    }\n\n    .dataframe thead th {\n        text-align: right;\n    }\n</style>\n<table border=\"1\" class=\"dataframe\">\n  <thead>\n    <tr style=\"text-align: right;\">\n      <th></th>\n      <th>first_name</th>\n      <th>last_name</th>\n    </tr>\n  </thead>\n  <tbody>\n    <tr>\n      <th>230491</th>\n      <td>Dana</td>\n      <td>Abbott</td>\n    </tr>\n    <tr>\n      <th>46689</th>\n      <td>Dakota</td>\n      <td>Abbott</td>\n    </tr>\n    <tr>\n      <th>37195</th>\n      <td>Jill</td>\n      <td>Abbott</td>\n    </tr>\n    <tr>\n      <th>489205</th>\n      <td>Emily</td>\n      <td>Abbott</td>\n    </tr>\n    <tr>\n      <th>37092</th>\n      <td>Phyllis</td>\n      <td>Abbott</td>\n    </tr>\n    <tr>\n      <th>...</th>\n      <td>...</td>\n      <td>...</td>\n    </tr>\n    <tr>\n      <th>211685</th>\n      <td>Ernest</td>\n      <td>Zuniga</td>\n    </tr>\n    <tr>\n      <th>295687</th>\n      <td>Michael</td>\n      <td>Zuniga</td>\n    </tr>\n    <tr>\n      <th>88617</th>\n      <td>Aaron</td>\n      <td>Zuniga</td>\n    </tr>\n    <tr>\n      <th>296487</th>\n      <td>Curtis</td>\n      <td>Zuniga</td>\n    </tr>\n    <tr>\n      <th>317668</th>\n      <td>Cameron</td>\n      <td>Zuniga</td>\n    </tr>\n  </tbody>\n</table>\n<p>500000 rows × 2 columns</p>\n</div>"
     },
     "execution_count": 60,
     "metadata": {},
     "output_type": "execute_result"
    }
   ],
   "source": [
    "df.sort_values(by=\"last_name\")"
   ],
   "metadata": {
    "collapsed": false,
    "ExecuteTime": {
     "end_time": "2023-12-20T17:53:06.883771700Z",
     "start_time": "2023-12-20T17:53:06.617575800Z"
    }
   },
   "id": "6f10405fc71a48c9"
  },
  {
   "cell_type": "code",
   "execution_count": 49,
   "outputs": [
    {
     "data": {
      "text/plain": "       first_name  last_name\n10        Melanie      Smith\n16         Joanne   Stephens\n18       Jennifer    Sanders\n27         Alicia    Sanders\n42         Amanda  Schneider\n...           ...        ...\n499846      Jesse    Simmons\n499854      Sarah    Sanders\n499904    Kathryn    Schmidt\n499977       Todd    Sanchez\n499993   Jennifer    Schmidt\n\n[42699 rows x 2 columns]",
      "text/html": "<div>\n<style scoped>\n    .dataframe tbody tr th:only-of-type {\n        vertical-align: middle;\n    }\n\n    .dataframe tbody tr th {\n        vertical-align: top;\n    }\n\n    .dataframe thead th {\n        text-align: right;\n    }\n</style>\n<table border=\"1\" class=\"dataframe\">\n  <thead>\n    <tr style=\"text-align: right;\">\n      <th></th>\n      <th>first_name</th>\n      <th>last_name</th>\n    </tr>\n  </thead>\n  <tbody>\n    <tr>\n      <th>10</th>\n      <td>Melanie</td>\n      <td>Smith</td>\n    </tr>\n    <tr>\n      <th>16</th>\n      <td>Joanne</td>\n      <td>Stephens</td>\n    </tr>\n    <tr>\n      <th>18</th>\n      <td>Jennifer</td>\n      <td>Sanders</td>\n    </tr>\n    <tr>\n      <th>27</th>\n      <td>Alicia</td>\n      <td>Sanders</td>\n    </tr>\n    <tr>\n      <th>42</th>\n      <td>Amanda</td>\n      <td>Schneider</td>\n    </tr>\n    <tr>\n      <th>...</th>\n      <td>...</td>\n      <td>...</td>\n    </tr>\n    <tr>\n      <th>499846</th>\n      <td>Jesse</td>\n      <td>Simmons</td>\n    </tr>\n    <tr>\n      <th>499854</th>\n      <td>Sarah</td>\n      <td>Sanders</td>\n    </tr>\n    <tr>\n      <th>499904</th>\n      <td>Kathryn</td>\n      <td>Schmidt</td>\n    </tr>\n    <tr>\n      <th>499977</th>\n      <td>Todd</td>\n      <td>Sanchez</td>\n    </tr>\n    <tr>\n      <th>499993</th>\n      <td>Jennifer</td>\n      <td>Schmidt</td>\n    </tr>\n  </tbody>\n</table>\n<p>42699 rows × 2 columns</p>\n</div>"
     },
     "execution_count": 49,
     "metadata": {},
     "output_type": "execute_result"
    }
   ],
   "source": [
    "df[df['last_name'].str.startswith('S')]"
   ],
   "metadata": {
    "collapsed": false,
    "ExecuteTime": {
     "end_time": "2023-12-20T17:44:38.571545700Z",
     "start_time": "2023-12-20T17:44:38.344146500Z"
    }
   },
   "id": "5c2dc73ef83694b8"
  },
  {
   "cell_type": "code",
   "execution_count": 50,
   "outputs": [
    {
     "data": {
      "text/plain": "pandas.core.frame.DataFrame"
     },
     "execution_count": 50,
     "metadata": {},
     "output_type": "execute_result"
    }
   ],
   "source": [
    "type(df[df['last_name'].str.startswith('S')])"
   ],
   "metadata": {
    "collapsed": false,
    "ExecuteTime": {
     "end_time": "2023-12-20T17:44:38.737629800Z",
     "start_time": "2023-12-20T17:44:38.566581700Z"
    }
   },
   "id": "407b58227898d047"
  },
  {
   "cell_type": "code",
   "execution_count": 51,
   "outputs": [],
   "source": [
    "df.to_csv('output.csv')"
   ],
   "metadata": {
    "collapsed": false,
    "ExecuteTime": {
     "end_time": "2023-12-20T17:44:39.499555600Z",
     "start_time": "2023-12-20T17:44:38.725602200Z"
    }
   },
   "id": "d32c9cd05e926a2d"
  }
 ],
 "metadata": {
  "kernelspec": {
   "display_name": "Python 3",
   "language": "python",
   "name": "python3"
  },
  "language_info": {
   "codemirror_mode": {
    "name": "ipython",
    "version": 2
   },
   "file_extension": ".py",
   "mimetype": "text/x-python",
   "name": "python",
   "nbconvert_exporter": "python",
   "pygments_lexer": "ipython2",
   "version": "2.7.6"
  }
 },
 "nbformat": 4,
 "nbformat_minor": 5
}
